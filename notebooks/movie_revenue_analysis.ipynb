{
 "cells": [
  {
   "cell_type": "markdown",
   "id": "b065d20a",
   "metadata": {},
   "source": [
    "# Movie Revenue Prediction"
   ]
  },
  {
   "cell_type": "code",
   "execution_count": 20,
   "id": "de86433d",
   "metadata": {},
   "outputs": [],
   "source": [
    "import sklearn as sk\n",
    "import pandas as pd\n",
    "import numpy as np\n",
    "import matplotlib as plt"
   ]
  },
  {
   "cell_type": "markdown",
   "id": "88db6a8e",
   "metadata": {},
   "source": [
    "### Load Dataset & Reshape"
   ]
  },
  {
   "cell_type": "code",
   "execution_count": null,
   "id": "9a043370",
   "metadata": {},
   "outputs": [],
   "source": [
    "path = r'..\\data\\tmbd_movie_dataset.csv'\n",
    "dataset = pd.read_csv(path)\n",
    "\n",
    "\n",
    "movie_data = dataset.drop(columns=[\n",
    "    'id', 'imdb_id', 'original_title', 'cast', 'director',\n",
    "    'tagline', 'overview', 'keywords', 'genres',\n",
    "    'production_companies', 'popularity_level'\n",
    "])"
   ]
  },
  {
   "cell_type": "markdown",
   "id": "e741a97c",
   "metadata": {},
   "source": [
    "### Log Transform"
   ]
  },
  {
   "cell_type": "code",
   "execution_count": 25,
   "id": "9643c182",
   "metadata": {},
   "outputs": [],
   "source": [
    "movie_data['log_budget'] = np.log1p(movie_data['budget'])\n",
    "movie_data['log_revenue'] = np.log1p(movie_data['revenue'])"
   ]
  }
 ],
 "metadata": {
  "kernelspec": {
   "display_name": "Python 3",
   "language": "python",
   "name": "python3"
  },
  "language_info": {
   "codemirror_mode": {
    "name": "ipython",
    "version": 3
   },
   "file_extension": ".py",
   "mimetype": "text/x-python",
   "name": "python",
   "nbconvert_exporter": "python",
   "pygments_lexer": "ipython3",
   "version": "3.13.5"
  }
 },
 "nbformat": 4,
 "nbformat_minor": 5
}
