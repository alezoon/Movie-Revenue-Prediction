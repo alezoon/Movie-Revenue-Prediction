{
 "cells": [
  {
   "cell_type": "markdown",
   "id": "b065d20a",
   "metadata": {},
   "source": [
    "# Movie Revenue Prediction"
   ]
  },
  {
   "cell_type": "code",
   "execution_count": 1,
   "id": "de86433d",
   "metadata": {},
   "outputs": [],
   "source": [
    "import sklearn as sk\n",
    "import pandas as pd\n",
    "import numpy as np\n",
    "import matplotlib as plt"
   ]
  },
  {
   "cell_type": "markdown",
   "id": "88db6a8e",
   "metadata": {},
   "source": [
    "## Load Dataset"
   ]
  },
  {
   "cell_type": "code",
   "execution_count": null,
   "id": "9a043370",
   "metadata": {},
   "outputs": [],
   "source": [
    "path = 'data\\TMBD Movie Dataset.csv'\n",
    "dataset = pd.read_csv(path, skiprows=1)\n",
    "\n"
   ]
  }
 ],
 "metadata": {
  "kernelspec": {
   "display_name": "Python 3",
   "language": "python",
   "name": "python3"
  },
  "language_info": {
   "codemirror_mode": {
    "name": "ipython",
    "version": 3
   },
   "file_extension": ".py",
   "mimetype": "text/x-python",
   "name": "python",
   "nbconvert_exporter": "python",
   "pygments_lexer": "ipython3",
   "version": "3.13.5"
  }
 },
 "nbformat": 4,
 "nbformat_minor": 5
}
