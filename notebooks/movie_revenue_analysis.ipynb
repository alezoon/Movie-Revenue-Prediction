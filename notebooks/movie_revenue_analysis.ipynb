{
 "cells": [
  {
   "cell_type": "markdown",
   "id": "c3f28c70",
   "metadata": {},
   "source": [
    "# Movie Revenue Analysis\n",
    "## Using budget and popularity to determine movies potential revenue"
   ]
  },
  {
   "cell_type": "code",
   "execution_count": 13,
   "id": "ff7624d0",
   "metadata": {},
   "outputs": [],
   "source": [
    "import sys\n",
    "sys.path.append('../src')\n",
    "\n",
    "from data_processing import load_and_clean_data, apply_log_transforms, feature_prep\n",
    "from model import train_model, model_evaluation, revenue_prediction \n",
    "import matplotlib.pyplot as plt"
   ]
  },
  {
   "cell_type": "markdown",
   "id": "219e0282",
   "metadata": {},
   "source": [
    "### Load and Process Data"
   ]
  },
  {
   "cell_type": "code",
   "execution_count": 8,
   "id": "9ab0fbc3",
   "metadata": {},
   "outputs": [],
   "source": [
    "path = r'..\\data\\tmbd_movie_dataset.csv'\n",
    "movie_data = load_and_clean_data(path)\n",
    "movie_data = apply_log_transforms(movie_data)\n",
    "\n",
    "X, y = feature_prep(movie_data)"
   ]
  },
  {
   "cell_type": "markdown",
   "id": "f8aac648",
   "metadata": {},
   "source": [
    "### Train and evaluate"
   ]
  },
  {
   "cell_type": "code",
   "execution_count": 17,
   "id": "68653dbb",
   "metadata": {},
   "outputs": [
    {
     "name": "stdout",
     "output_type": "stream",
     "text": [
      "{'mse': 1.3938554722464331, 'rmse': np.float64(1.1806165644469135), 'mae': 0.8337041817181683, 'r2': 0.6495916699606086}\n"
     ]
    }
   ],
   "source": [
    "reg, X_train, X_test, y_train, y_test = train_model(X,y)\n",
    "metrics = model_evaluation(reg, X_test, y_test)\n",
    "print(metrics)"
   ]
  },
  {
   "cell_type": "markdown",
   "id": "17c9c12d",
   "metadata": {},
   "source": [
    "### Prediction"
   ]
  },
  {
   "cell_type": "code",
   "execution_count": 10,
   "id": "ff041872",
   "metadata": {},
   "outputs": [
    {
     "name": "stdout",
     "output_type": "stream",
     "text": [
      "Test Predicted using $50M budget, Popularity of 3: $116,991,401\n",
      "\n",
      "Movie Budget of $50000000.0 and popularity of 3.0\n",
      "Predicted Revenue: $116,991,401\n"
     ]
    }
   ],
   "source": [
    "revenue = revenue_prediction(reg, 50000000,3)\n",
    "print(f\"Test Predicted using $50M budget, Popularity of 3: ${revenue:,.0f}\\n\")\n",
    "\n",
    "\n",
    "\n",
    "movie_budget = float(input(\"Enter Movie Budget: \"))\n",
    "movie_popularity = float(input(\"Enter Movie Popularity (0-10 most accurate): \"))\n",
    "predicted_revenue = revenue_prediction(reg, movie_budget, movie_popularity)\n",
    "print(f\"Movie Budget of ${movie_budget} and popularity of {movie_popularity}\\nPredicted Revenue: ${predicted_revenue:,.0f}\")"
   ]
  }
 ],
 "metadata": {
  "kernelspec": {
   "display_name": "Python 3",
   "language": "python",
   "name": "python3"
  },
  "language_info": {
   "codemirror_mode": {
    "name": "ipython",
    "version": 3
   },
   "file_extension": ".py",
   "mimetype": "text/x-python",
   "name": "python",
   "nbconvert_exporter": "python",
   "pygments_lexer": "ipython3",
   "version": "3.13.5"
  }
 },
 "nbformat": 4,
 "nbformat_minor": 5
}
